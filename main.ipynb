{
  "nbformat": 4,
  "nbformat_minor": 0,
  "metadata": {
    "colab": {
      "provenance": [],
      "collapsed_sections": [
        "xaFbQC4oPSOa",
        "76DspcicpA2H",
        "xx--cXyqu6sr"
      ],
      "mount_file_id": "11nj8vglUCPPu1bhqusjIfD6yQ8GXwFPP",
      "authorship_tag": "ABX9TyNG/fcyCzDw9+/PV2p5Psk9"
    },
    "kernelspec": {
      "name": "python3",
      "display_name": "Python 3"
    },
    "language_info": {
      "name": "python"
    }
  },
  "cells": [
    {
      "cell_type": "code",
      "source": [
        "import numpy as np\n",
        "import struct\n",
        "from array import array\n",
        "from os.path import join\n",
        "import pandas as pd\n",
        "import random\n",
        "import matplotlib.pyplot as plt\n",
        "\n",
        "import tensorflow as tf\n",
        "from tensorflow.keras.layers import Dense, Flatten, MaxPooling2D, Conv2D, Input\n",
        "from tensorflow.keras.models import Sequential, load_model\n",
        "from tensorflow.keras.losses import SparseCategoricalCrossentropy\n",
        "from tensorflow.keras.callbacks import ModelCheckpoint, EarlyStopping\n",
        "from sklearn.model_selection import train_test_split\n",
        "from sklearn.metrics import confusion_matrix, multilabel_confusion_matrix, classification_report, accuracy_score\n",
        "import seaborn as sns"
      ],
      "metadata": {
        "id": "5pgpCirGX9SD"
      },
      "execution_count": null,
      "outputs": []
    },
    {
      "cell_type": "markdown",
      "source": [
        "# Classifying MNIST Images With Various Neural Networks and Comparing Them\n",
        "- Thomas Armstrong\n",
        "- Approved by Max\n",
        "\n",
        "## Neural Networks Used\n",
        "- Dense\n",
        "- Convolutional\n",
        "\n",
        "In this tutorial, we'll be using a dense neural network and a convolutional neural network in order to classify MNIST images, and then comparing the results of the networks. \n",
        "\n",
        "\n",
        "\n",
        "\n",
        "\n",
        "\n"
      ],
      "metadata": {
        "id": "jV3ZMZGzGHbu"
      }
    },
    {
      "cell_type": "markdown",
      "source": [
        "## What are MNIST Images?\n",
        "\n",
        "---\n"
      ],
      "metadata": {
        "id": "8oN3p6irb6BN"
      }
    },
    {
      "cell_type": "markdown",
      "source": [
        "MNIST images are images of handwritten digits ranging from 0-9. The images are in 28 by 28 pixels, and are greyscale only, with a completely black background. There will also be some example images printed below, if this description is inadequate.\n",
        "\n",
        "This makes MNIST images great to use for machine learning. Images being greyscaled means that each pixel can be represented by one value, from 0 to 255. Then, the full representation of an MNIST image can be thought of as a 28x28 array. Values within the array would have values up to 255, indicating the pixel is completely white, and as low as 0, indicating the completely black background."
      ],
      "metadata": {
        "id": "bN6BCe0Mb8Bg"
      }
    },
    {
      "cell_type": "markdown",
      "source": [
        "# Data Collection\n",
        "\n",
        "---"
      ],
      "metadata": {
        "id": "xaFbQC4oPSOa"
      }
    },
    {
      "cell_type": "markdown",
      "source": [
        "I found the MNIST data available from Kaggle [here](https://www.kaggle.com/datasets/hojjatk/mnist-dataset?resource=download).\n",
        "\n",
        "The user that posted the MNIST data also generously provided code to read in the data, which I found [here](https://www.kaggle.com/code/hojjatk/read-mnist-dataset/notebook).\n",
        "\n",
        "\n",
        "This allowed for a very simple data collection process, where I simply had to download the data myself, and direct the code to the proper file directory. \n",
        "\n",
        "In this notebook, I will be saving all of the data and saved models to my Google Drive."
      ],
      "metadata": {
        "id": "g0SBYx6bbx1I"
      }
    },
    {
      "cell_type": "code",
      "execution_count": null,
      "metadata": {
        "id": "T7YCYw5UEP7t"
      },
      "outputs": [],
      "source": [
        "file_dir = \"./drive/MyDrive/College/CMSC320/mnist/\""
      ]
    },
    {
      "cell_type": "markdown",
      "source": [
        "MNIST Data from: https://www.kaggle.com/datasets/hojjatk/mnist-dataset?resource=download\n",
        "\n",
        "Code for reading the data: https://www.kaggle.com/code/hojjatk/read-mnist-dataset/notebook\n",
        "\n"
      ],
      "metadata": {
        "id": "dvDeoby5GCvo"
      }
    },
    {
      "cell_type": "code",
      "execution_count": null,
      "metadata": {
        "id": "cBdi0bvnX2I3"
      },
      "outputs": [],
      "source": [
        "\n",
        "\n",
        "#\n",
        "# MNIST Data Loader Class\n",
        "#\n",
        "class MnistDataloader(object):\n",
        "    def __init__(self, training_images_filepath,training_labels_filepath,\n",
        "                 test_images_filepath, test_labels_filepath):\n",
        "        self.training_images_filepath = training_images_filepath\n",
        "        self.training_labels_filepath = training_labels_filepath\n",
        "        self.test_images_filepath = test_images_filepath\n",
        "        self.test_labels_filepath = test_labels_filepath\n",
        "    \n",
        "    def read_images_labels(self, images_filepath, labels_filepath):        \n",
        "        labels = []\n",
        "        with open(labels_filepath, 'rb') as file:\n",
        "            magic, size = struct.unpack(\">II\", file.read(8))\n",
        "            if magic != 2049:\n",
        "                raise ValueError('Magic number mismatch, expected 2049, got {}'.format(magic))\n",
        "            labels = array(\"B\", file.read())        \n",
        "        \n",
        "        with open(images_filepath, 'rb') as file:\n",
        "            magic, size, rows, cols = struct.unpack(\">IIII\", file.read(16))\n",
        "            if magic != 2051:\n",
        "                raise ValueError('Magic number mismatch, expected 2051, got {}'.format(magic))\n",
        "            image_data = array(\"B\", file.read())        \n",
        "        images = []\n",
        "        for i in range(size):\n",
        "            images.append([0] * rows * cols)\n",
        "        for i in range(size):\n",
        "            img = np.array(image_data[i * rows * cols:(i + 1) * rows * cols])\n",
        "            img = img.reshape(28, 28)\n",
        "            images[i][:] = img            \n",
        "        \n",
        "        return images, labels\n",
        "            \n",
        "    def load_data(self):\n",
        "        x_train, y_train = self.read_images_labels(self.training_images_filepath, self.training_labels_filepath)\n",
        "        x_test, y_test = self.read_images_labels(self.test_images_filepath, self.test_labels_filepath)\n",
        "        return (x_train, y_train),(x_test, y_test)\n",
        "\n",
        "\n",
        "\n",
        "\n",
        "#\n",
        "# Set file paths based on added MNIST Datasets\n",
        "#\n",
        "input_path = file_dir\n",
        "training_images_filepath = join(input_path, 'train-images-idx3-ubyte/train-images-idx3-ubyte')\n",
        "training_labels_filepath = join(input_path, 'train-labels-idx1-ubyte/train-labels-idx1-ubyte')\n",
        "test_images_filepath = join(input_path, 't10k-images-idx3-ubyte/t10k-images-idx3-ubyte')\n",
        "test_labels_filepath = join(input_path, 't10k-labels-idx1-ubyte/t10k-labels-idx1-ubyte')\n",
        "\n",
        "\n",
        "#\n",
        "# Load MNIST dataset\n",
        "#\n",
        "mnist_dataloader = MnistDataloader(training_images_filepath, training_labels_filepath, test_images_filepath, test_labels_filepath)\n",
        "(x_train, y_train), (x_test, y_test) = mnist_dataloader.load_data()"
      ]
    },
    {
      "cell_type": "markdown",
      "source": [
        "# Preparing Data for Model Input\n",
        "\n",
        "---"
      ],
      "metadata": {
        "id": "xx--cXyqu6sr"
      }
    },
    {
      "cell_type": "markdown",
      "source": [
        "Currently, each image is an array of 28 arrays. Generally, when passing the inputs into the model, we want each image to instead be a 2D array.\n",
        "\n",
        "This way, we pass an array of 2D arrays into the model, instead of an array of arrays of arrays.\n",
        "\n",
        "The model will expect each input to have a specific shape (in this case 28x28), which is difficult to determine when an input is an array of arrays.\n",
        "\n",
        "Here, you can see that each image is currently an array of arrays. This can be seen by the multiple array declarations instead of a single array declaration."
      ],
      "metadata": {
        "id": "bQYbsz4Sbual"
      }
    },
    {
      "cell_type": "code",
      "source": [
        "x_train[0]"
      ],
      "metadata": {
        "colab": {
          "base_uri": "https://localhost:8080/"
        },
        "id": "rJcNxx__vBuO",
        "outputId": "eb684b2b-4b1a-432d-d6ec-cb4d714d23af"
      },
      "execution_count": null,
      "outputs": [
        {
          "output_type": "execute_result",
          "data": {
            "text/plain": [
              "[array([0, 0, 0, 0, 0, 0, 0, 0, 0, 0, 0, 0, 0, 0, 0, 0, 0, 0, 0, 0, 0, 0,\n",
              "        0, 0, 0, 0, 0, 0], dtype=uint8),\n",
              " array([0, 0, 0, 0, 0, 0, 0, 0, 0, 0, 0, 0, 0, 0, 0, 0, 0, 0, 0, 0, 0, 0,\n",
              "        0, 0, 0, 0, 0, 0], dtype=uint8),\n",
              " array([0, 0, 0, 0, 0, 0, 0, 0, 0, 0, 0, 0, 0, 0, 0, 0, 0, 0, 0, 0, 0, 0,\n",
              "        0, 0, 0, 0, 0, 0], dtype=uint8),\n",
              " array([0, 0, 0, 0, 0, 0, 0, 0, 0, 0, 0, 0, 0, 0, 0, 0, 0, 0, 0, 0, 0, 0,\n",
              "        0, 0, 0, 0, 0, 0], dtype=uint8),\n",
              " array([0, 0, 0, 0, 0, 0, 0, 0, 0, 0, 0, 0, 0, 0, 0, 0, 0, 0, 0, 0, 0, 0,\n",
              "        0, 0, 0, 0, 0, 0], dtype=uint8),\n",
              " array([  0,   0,   0,   0,   0,   0,   0,   0,   0,   0,   0,   0,   3,\n",
              "         18,  18,  18, 126, 136, 175,  26, 166, 255, 247, 127,   0,   0,\n",
              "          0,   0], dtype=uint8),\n",
              " array([  0,   0,   0,   0,   0,   0,   0,   0,  30,  36,  94, 154, 170,\n",
              "        253, 253, 253, 253, 253, 225, 172, 253, 242, 195,  64,   0,   0,\n",
              "          0,   0], dtype=uint8),\n",
              " array([  0,   0,   0,   0,   0,   0,   0,  49, 238, 253, 253, 253, 253,\n",
              "        253, 253, 253, 253, 251,  93,  82,  82,  56,  39,   0,   0,   0,\n",
              "          0,   0], dtype=uint8),\n",
              " array([  0,   0,   0,   0,   0,   0,   0,  18, 219, 253, 253, 253, 253,\n",
              "        253, 198, 182, 247, 241,   0,   0,   0,   0,   0,   0,   0,   0,\n",
              "          0,   0], dtype=uint8),\n",
              " array([  0,   0,   0,   0,   0,   0,   0,   0,  80, 156, 107, 253, 253,\n",
              "        205,  11,   0,  43, 154,   0,   0,   0,   0,   0,   0,   0,   0,\n",
              "          0,   0], dtype=uint8),\n",
              " array([  0,   0,   0,   0,   0,   0,   0,   0,   0,  14,   1, 154, 253,\n",
              "         90,   0,   0,   0,   0,   0,   0,   0,   0,   0,   0,   0,   0,\n",
              "          0,   0], dtype=uint8),\n",
              " array([  0,   0,   0,   0,   0,   0,   0,   0,   0,   0,   0, 139, 253,\n",
              "        190,   2,   0,   0,   0,   0,   0,   0,   0,   0,   0,   0,   0,\n",
              "          0,   0], dtype=uint8),\n",
              " array([  0,   0,   0,   0,   0,   0,   0,   0,   0,   0,   0,  11, 190,\n",
              "        253,  70,   0,   0,   0,   0,   0,   0,   0,   0,   0,   0,   0,\n",
              "          0,   0], dtype=uint8),\n",
              " array([  0,   0,   0,   0,   0,   0,   0,   0,   0,   0,   0,   0,  35,\n",
              "        241, 225, 160, 108,   1,   0,   0,   0,   0,   0,   0,   0,   0,\n",
              "          0,   0], dtype=uint8),\n",
              " array([  0,   0,   0,   0,   0,   0,   0,   0,   0,   0,   0,   0,   0,\n",
              "         81, 240, 253, 253, 119,  25,   0,   0,   0,   0,   0,   0,   0,\n",
              "          0,   0], dtype=uint8),\n",
              " array([  0,   0,   0,   0,   0,   0,   0,   0,   0,   0,   0,   0,   0,\n",
              "          0,  45, 186, 253, 253, 150,  27,   0,   0,   0,   0,   0,   0,\n",
              "          0,   0], dtype=uint8),\n",
              " array([  0,   0,   0,   0,   0,   0,   0,   0,   0,   0,   0,   0,   0,\n",
              "          0,   0,  16,  93, 252, 253, 187,   0,   0,   0,   0,   0,   0,\n",
              "          0,   0], dtype=uint8),\n",
              " array([  0,   0,   0,   0,   0,   0,   0,   0,   0,   0,   0,   0,   0,\n",
              "          0,   0,   0,   0, 249, 253, 249,  64,   0,   0,   0,   0,   0,\n",
              "          0,   0], dtype=uint8),\n",
              " array([  0,   0,   0,   0,   0,   0,   0,   0,   0,   0,   0,   0,   0,\n",
              "          0,  46, 130, 183, 253, 253, 207,   2,   0,   0,   0,   0,   0,\n",
              "          0,   0], dtype=uint8),\n",
              " array([  0,   0,   0,   0,   0,   0,   0,   0,   0,   0,   0,   0,  39,\n",
              "        148, 229, 253, 253, 253, 250, 182,   0,   0,   0,   0,   0,   0,\n",
              "          0,   0], dtype=uint8),\n",
              " array([  0,   0,   0,   0,   0,   0,   0,   0,   0,   0,  24, 114, 221,\n",
              "        253, 253, 253, 253, 201,  78,   0,   0,   0,   0,   0,   0,   0,\n",
              "          0,   0], dtype=uint8),\n",
              " array([  0,   0,   0,   0,   0,   0,   0,   0,  23,  66, 213, 253, 253,\n",
              "        253, 253, 198,  81,   2,   0,   0,   0,   0,   0,   0,   0,   0,\n",
              "          0,   0], dtype=uint8),\n",
              " array([  0,   0,   0,   0,   0,   0,  18, 171, 219, 253, 253, 253, 253,\n",
              "        195,  80,   9,   0,   0,   0,   0,   0,   0,   0,   0,   0,   0,\n",
              "          0,   0], dtype=uint8),\n",
              " array([  0,   0,   0,   0,  55, 172, 226, 253, 253, 253, 253, 244, 133,\n",
              "         11,   0,   0,   0,   0,   0,   0,   0,   0,   0,   0,   0,   0,\n",
              "          0,   0], dtype=uint8),\n",
              " array([  0,   0,   0,   0, 136, 253, 253, 253, 212, 135, 132,  16,   0,\n",
              "          0,   0,   0,   0,   0,   0,   0,   0,   0,   0,   0,   0,   0,\n",
              "          0,   0], dtype=uint8),\n",
              " array([0, 0, 0, 0, 0, 0, 0, 0, 0, 0, 0, 0, 0, 0, 0, 0, 0, 0, 0, 0, 0, 0,\n",
              "        0, 0, 0, 0, 0, 0], dtype=uint8),\n",
              " array([0, 0, 0, 0, 0, 0, 0, 0, 0, 0, 0, 0, 0, 0, 0, 0, 0, 0, 0, 0, 0, 0,\n",
              "        0, 0, 0, 0, 0, 0], dtype=uint8),\n",
              " array([0, 0, 0, 0, 0, 0, 0, 0, 0, 0, 0, 0, 0, 0, 0, 0, 0, 0, 0, 0, 0, 0,\n",
              "        0, 0, 0, 0, 0, 0], dtype=uint8)]"
            ]
          },
          "metadata": {},
          "execution_count": 8
        }
      ]
    },
    {
      "cell_type": "markdown",
      "source": [
        "To convert the inputs into 2D arrays, we can use the [numpy stack function](https://numpy.org/doc/stable/reference/generated/numpy.stack.html):"
      ],
      "metadata": {
        "id": "UYRZAMx3xCO-"
      }
    },
    {
      "cell_type": "code",
      "source": [
        "x_train = np.stack(x_train)\n",
        "y_train = np.stack(y_train)\n",
        "x_test = np.stack(x_test)\n",
        "y_test = np.stack(y_test)"
      ],
      "metadata": {
        "id": "FK5VNl5tYnbb"
      },
      "execution_count": null,
      "outputs": []
    },
    {
      "cell_type": "markdown",
      "source": [
        "Note that we even stack our labels. Although not as necessary, it keeps the datatypes uniform.\n",
        "\n",
        "Now, each input image is a 2D array:"
      ],
      "metadata": {
        "id": "HVFHlHq-xaZ-"
      }
    },
    {
      "cell_type": "code",
      "source": [
        "x_train[0]"
      ],
      "metadata": {
        "colab": {
          "base_uri": "https://localhost:8080/"
        },
        "id": "1LR04CSgxWmD",
        "outputId": "e28b39da-d7a6-42b1-a80d-fe01a5c8499f"
      },
      "execution_count": null,
      "outputs": [
        {
          "output_type": "execute_result",
          "data": {
            "text/plain": [
              "array([[  0,   0,   0,   0,   0,   0,   0,   0,   0,   0,   0,   0,   0,\n",
              "          0,   0,   0,   0,   0,   0,   0,   0,   0,   0,   0,   0,   0,\n",
              "          0,   0],\n",
              "       [  0,   0,   0,   0,   0,   0,   0,   0,   0,   0,   0,   0,   0,\n",
              "          0,   0,   0,   0,   0,   0,   0,   0,   0,   0,   0,   0,   0,\n",
              "          0,   0],\n",
              "       [  0,   0,   0,   0,   0,   0,   0,   0,   0,   0,   0,   0,   0,\n",
              "          0,   0,   0,   0,   0,   0,   0,   0,   0,   0,   0,   0,   0,\n",
              "          0,   0],\n",
              "       [  0,   0,   0,   0,   0,   0,   0,   0,   0,   0,   0,   0,   0,\n",
              "          0,   0,   0,   0,   0,   0,   0,   0,   0,   0,   0,   0,   0,\n",
              "          0,   0],\n",
              "       [  0,   0,   0,   0,   0,   0,   0,   0,   0,   0,   0,   0,   0,\n",
              "          0,   0,   0,   0,   0,   0,   0,   0,   0,   0,   0,   0,   0,\n",
              "          0,   0],\n",
              "       [  0,   0,   0,   0,   0,   0,   0,   0,   0,   0,   0,   0,   3,\n",
              "         18,  18,  18, 126, 136, 175,  26, 166, 255, 247, 127,   0,   0,\n",
              "          0,   0],\n",
              "       [  0,   0,   0,   0,   0,   0,   0,   0,  30,  36,  94, 154, 170,\n",
              "        253, 253, 253, 253, 253, 225, 172, 253, 242, 195,  64,   0,   0,\n",
              "          0,   0],\n",
              "       [  0,   0,   0,   0,   0,   0,   0,  49, 238, 253, 253, 253, 253,\n",
              "        253, 253, 253, 253, 251,  93,  82,  82,  56,  39,   0,   0,   0,\n",
              "          0,   0],\n",
              "       [  0,   0,   0,   0,   0,   0,   0,  18, 219, 253, 253, 253, 253,\n",
              "        253, 198, 182, 247, 241,   0,   0,   0,   0,   0,   0,   0,   0,\n",
              "          0,   0],\n",
              "       [  0,   0,   0,   0,   0,   0,   0,   0,  80, 156, 107, 253, 253,\n",
              "        205,  11,   0,  43, 154,   0,   0,   0,   0,   0,   0,   0,   0,\n",
              "          0,   0],\n",
              "       [  0,   0,   0,   0,   0,   0,   0,   0,   0,  14,   1, 154, 253,\n",
              "         90,   0,   0,   0,   0,   0,   0,   0,   0,   0,   0,   0,   0,\n",
              "          0,   0],\n",
              "       [  0,   0,   0,   0,   0,   0,   0,   0,   0,   0,   0, 139, 253,\n",
              "        190,   2,   0,   0,   0,   0,   0,   0,   0,   0,   0,   0,   0,\n",
              "          0,   0],\n",
              "       [  0,   0,   0,   0,   0,   0,   0,   0,   0,   0,   0,  11, 190,\n",
              "        253,  70,   0,   0,   0,   0,   0,   0,   0,   0,   0,   0,   0,\n",
              "          0,   0],\n",
              "       [  0,   0,   0,   0,   0,   0,   0,   0,   0,   0,   0,   0,  35,\n",
              "        241, 225, 160, 108,   1,   0,   0,   0,   0,   0,   0,   0,   0,\n",
              "          0,   0],\n",
              "       [  0,   0,   0,   0,   0,   0,   0,   0,   0,   0,   0,   0,   0,\n",
              "         81, 240, 253, 253, 119,  25,   0,   0,   0,   0,   0,   0,   0,\n",
              "          0,   0],\n",
              "       [  0,   0,   0,   0,   0,   0,   0,   0,   0,   0,   0,   0,   0,\n",
              "          0,  45, 186, 253, 253, 150,  27,   0,   0,   0,   0,   0,   0,\n",
              "          0,   0],\n",
              "       [  0,   0,   0,   0,   0,   0,   0,   0,   0,   0,   0,   0,   0,\n",
              "          0,   0,  16,  93, 252, 253, 187,   0,   0,   0,   0,   0,   0,\n",
              "          0,   0],\n",
              "       [  0,   0,   0,   0,   0,   0,   0,   0,   0,   0,   0,   0,   0,\n",
              "          0,   0,   0,   0, 249, 253, 249,  64,   0,   0,   0,   0,   0,\n",
              "          0,   0],\n",
              "       [  0,   0,   0,   0,   0,   0,   0,   0,   0,   0,   0,   0,   0,\n",
              "          0,  46, 130, 183, 253, 253, 207,   2,   0,   0,   0,   0,   0,\n",
              "          0,   0],\n",
              "       [  0,   0,   0,   0,   0,   0,   0,   0,   0,   0,   0,   0,  39,\n",
              "        148, 229, 253, 253, 253, 250, 182,   0,   0,   0,   0,   0,   0,\n",
              "          0,   0],\n",
              "       [  0,   0,   0,   0,   0,   0,   0,   0,   0,   0,  24, 114, 221,\n",
              "        253, 253, 253, 253, 201,  78,   0,   0,   0,   0,   0,   0,   0,\n",
              "          0,   0],\n",
              "       [  0,   0,   0,   0,   0,   0,   0,   0,  23,  66, 213, 253, 253,\n",
              "        253, 253, 198,  81,   2,   0,   0,   0,   0,   0,   0,   0,   0,\n",
              "          0,   0],\n",
              "       [  0,   0,   0,   0,   0,   0,  18, 171, 219, 253, 253, 253, 253,\n",
              "        195,  80,   9,   0,   0,   0,   0,   0,   0,   0,   0,   0,   0,\n",
              "          0,   0],\n",
              "       [  0,   0,   0,   0,  55, 172, 226, 253, 253, 253, 253, 244, 133,\n",
              "         11,   0,   0,   0,   0,   0,   0,   0,   0,   0,   0,   0,   0,\n",
              "          0,   0],\n",
              "       [  0,   0,   0,   0, 136, 253, 253, 253, 212, 135, 132,  16,   0,\n",
              "          0,   0,   0,   0,   0,   0,   0,   0,   0,   0,   0,   0,   0,\n",
              "          0,   0],\n",
              "       [  0,   0,   0,   0,   0,   0,   0,   0,   0,   0,   0,   0,   0,\n",
              "          0,   0,   0,   0,   0,   0,   0,   0,   0,   0,   0,   0,   0,\n",
              "          0,   0],\n",
              "       [  0,   0,   0,   0,   0,   0,   0,   0,   0,   0,   0,   0,   0,\n",
              "          0,   0,   0,   0,   0,   0,   0,   0,   0,   0,   0,   0,   0,\n",
              "          0,   0],\n",
              "       [  0,   0,   0,   0,   0,   0,   0,   0,   0,   0,   0,   0,   0,\n",
              "          0,   0,   0,   0,   0,   0,   0,   0,   0,   0,   0,   0,   0,\n",
              "          0,   0]], dtype=uint8)"
            ]
          },
          "metadata": {},
          "execution_count": 20
        }
      ]
    },
    {
      "cell_type": "markdown",
      "source": [
        "## Creation of Validation Dataset\n",
        "\n",
        "---"
      ],
      "metadata": {
        "id": "bh85umUK99CI"
      }
    },
    {
      "cell_type": "markdown",
      "source": [
        "Currently, we have a train and a test dataset. I will also be creating a third validation set, that we will use during training to evaluate the model's performance on data it hasn't seen.\n",
        "\n",
        "- Train set: Used for training our models\n",
        "- Validation set: Used to validate the models during training\n",
        "- Test set: Used to evaluate our models' predictions after training\n",
        "\n",
        "This is useful because we are essentially double blinded to the test set before analysis. We've never seen any of the data within the set, and do not know how the model will perform with it.\n",
        "\n",
        "If we did not create a separate validation set, we would no longer be blinded to the test set, as we would use the test set during validation in model training.\n",
        "\n",
        "We'll be using sklearn's [train_test_split function](https://scikit-learn.org/stable/modules/generated/sklearn.model_selection.train_test_split.html):"
      ],
      "metadata": {
        "id": "baDJgG1kbp_k"
      }
    },
    {
      "cell_type": "code",
      "source": [
        "x_train, x_valid, y_train, y_valid = train_test_split(x_train, y_train, test_size=0.1667, random_state=42)"
      ],
      "metadata": {
        "id": "nLc2_BWe2Xo3"
      },
      "execution_count": null,
      "outputs": []
    },
    {
      "cell_type": "markdown",
      "source": [
        "# Showing Example Images\n",
        "\n",
        "---"
      ],
      "metadata": {
        "id": "76DspcicpA2H"
      }
    },
    {
      "cell_type": "markdown",
      "source": [
        "The following code is used to show some example images from the dataset. It also came from [Kaggle](https://www.kaggle.com/code/hojjatk/read-mnist-dataset/notebook) as a part of data collection."
      ],
      "metadata": {
        "id": "DK4UNKDndN-x"
      }
    },
    {
      "cell_type": "code",
      "source": [
        "#\n",
        "# Helper function to show a list of images with their relating titles\n",
        "#\n",
        "%matplotlib inline\n",
        "def show_images(images, title_texts):\n",
        "    cols = 5\n",
        "    rows = int(len(images)/cols) + 1\n",
        "    plt.figure(figsize=(20,10))\n",
        "    index = 1    \n",
        "    for x in zip(images, title_texts):        \n",
        "        image = x[0]        \n",
        "        title_text = x[1]\n",
        "        plt.subplot(rows, cols, index)        \n",
        "        plt.imshow(image, cmap=plt.cm.gray)\n",
        "        if (title_text != ''):\n",
        "            plt.title(title_text, fontsize = 15);        \n",
        "        index += 1"
      ],
      "metadata": {
        "id": "x4F9toweYExK"
      },
      "execution_count": null,
      "outputs": []
    },
    {
      "cell_type": "markdown",
      "source": [
        "By showing random sample images, we can see that the digits are not exactly the same. There is quite a bit of variation within digits."
      ],
      "metadata": {
        "id": "_lIJUp1y_6VR"
      }
    },
    {
      "cell_type": "code",
      "source": [
        "#\n",
        "# Show some random training and test images \n",
        "#\n",
        "images_2_show = []\n",
        "titles_2_show = []\n",
        "for i in range(0, 5):\n",
        "    r = random.randint(1, len(x_train))\n",
        "    images_2_show.append(x_train[r])\n",
        "    titles_2_show.append('training image [' + str(r) + '] = ' + str(y_train[r]))    \n",
        "\n",
        "for i in range(0, 5):\n",
        "    r = random.randint(1, len(x_valid))\n",
        "    images_2_show.append(x_valid[r])        \n",
        "    titles_2_show.append('validation image [' + str(r) + '] = ' + str(y_valid[r]))    \n",
        "\n",
        "show_images(images_2_show, titles_2_show)"
      ],
      "metadata": {
        "colab": {
          "base_uri": "https://localhost:8080/",
          "height": 418
        },
        "id": "LrbdNyN4YFeJ",
        "outputId": "1ba279a6-a9eb-44f6-e442-34e2b4a016c6"
      },
      "execution_count": null,
      "outputs": [
        {
          "output_type": "display_data",
          "data": {
            "text/plain": [
              "<Figure size 1440x720 with 10 Axes>"
            ],
            "image/png": "[encoded data removed]"
          },
          "metadata": {
            "needs_background": "light"
          }
        }
      ]
    },
    {
      "cell_type": "markdown",
      "source": [
        "As you can see, each image is 28x28 and in black and white. "
      ],
      "metadata": {
        "id": "jZDAgehYsLrW"
      }
    },
    {
      "cell_type": "markdown",
      "source": [
        "# Initial Data Analysis\n",
        "\n",
        "---"
      ],
      "metadata": {
        "id": "D83vujHrsZ1j"
      }
    },
    {
      "cell_type": "markdown",
      "source": [
        "To ensure that there is no classification bias in the models, we should aim to have close to the same amount of each label present the training set.\n",
        "\n",
        "To check how many of each label we have, we'll make use of Numpy's [bincount function](https://numpy.org/doc/stable/reference/generated/numpy.bincount.html). This function takes an array of numbers, and returns an array where the indexes represent the numbers from the original array, and the values at each index are the number of occurrences.\n",
        "\n",
        "So, for example:\n",
        "```\n",
        "initial_array = np.array([0, 1, 2, 2, 2, 3, 3])\n",
        "bincounted_array = np.bincount(initial_array)\n",
        "\n",
        "bincounted_array[0] = 1\n",
        "bincounted_array[1] = 1\n",
        "bincounted_array[2] = 3\n",
        "bincounted_array[3] = 2\n",
        "```\n",
        "\n",
        "Another useful function is Numpy's [ptp function](https://numpy.org/doc/stable/reference/generated/numpy.ptp.html). This stands for peak-to-peak, and calculates the largest possible range from an array of values."
      ],
      "metadata": {
        "id": "ZFbhuqctbklc"
      }
    },
    {
      "cell_type": "code",
      "source": [
        "bincount = np.bincount(y_train)\n",
        "print(f\"Average number of inputs per label: {bincount.mean()}\")\n",
        "print(f\"Standard deviation of inputs per label: {bincount.std()}\")\n",
        "print(f\"Range of inputs per label: {bincount.max()} - {bincount.min()} = {np.ptp(bincount)}\")\n",
        "\n",
        "plt.title(\"Number of Images Per Label in Training Dataset\")\n",
        "plt.ylabel(\"Number of Images\")\n",
        "plt.xlabel(\"Label\")\n",
        "plt.bar(range(0, 10), bincount)\n",
        "plt.xticks(range(0, 10))\n",
        "plt.show()"
      ],
      "metadata": {
        "id": "cgAghVuhx_q8",
        "colab": {
          "base_uri": "https://localhost:8080/",
          "height": 349
        },
        "outputId": "f19f1cd9-ef4b-4085-b880-f99e5afc23b6"
      },
      "execution_count": null,
      "outputs": [
        {
          "output_type": "stream",
          "name": "stdout",
          "text": [
            "Average number of inputs per label: 4999.8\n",
            "Standard deviation of inputs per label: 278.88700220698706\n",
            "Range of inputs per label: 5649 - 4501 = 1148\n"
          ]
        },
        {
          "output_type": "display_data",
          "data": {
            "text/plain": [
              "<Figure size 432x288 with 1 Axes>"
            ],
            "image/png": "[encoded data removed]"
          },
          "metadata": {
            "needs_background": "light"
          }
        }
      ]
    },
    {
      "cell_type": "markdown",
      "source": [
        "Overall, there is not a huge difference in number of images per label. The lowest number of images is 4501 for the label 5, and the highest number of images is 5649 for the label 1. Each of these are about two standard deviations off of the mean.\n",
        "\n",
        "This is likely not a huge enough difference to cause significantly harmful effects to our models during training."
      ],
      "metadata": {
        "id": "DgdwvCO37SUt"
      }
    },
    {
      "cell_type": "code",
      "source": [
        "bincount = np.bincount(y_valid)\n",
        "print(f\"Average number of inputs per label: {bincount.mean()}\")\n",
        "print(f\"Standard deviation of inputs per label: {bincount.std()}\")\n",
        "print(f\"Range of inputs per label: {bincount.max()} - {bincount.min()} = {np.ptp(bincount)}\")\n",
        "\n",
        "plt.title(\"Number of Images Per Label in Validation Dataset\")\n",
        "plt.ylabel(\"Number of Images\")\n",
        "plt.xlabel(\"Label\")\n",
        "plt.xticks(range(0, 10))\n",
        "plt.bar(range(0, 10), bincount)\n",
        "plt.show()"
      ],
      "metadata": {
        "colab": {
          "base_uri": "https://localhost:8080/",
          "height": 349
        },
        "id": "K5Ban4hLCsMu",
        "outputId": "c4cd2612-9345-4560-f322-39456eac051c"
      },
      "execution_count": null,
      "outputs": [
        {
          "output_type": "stream",
          "name": "stdout",
          "text": [
            "Average number of inputs per label: 1000.2\n",
            "Standard deviation of inputs per label: 44.94619004988076\n",
            "Range of inputs per label: 1093 - 920 = 173\n"
          ]
        },
        {
          "output_type": "display_data",
          "data": {
            "text/plain": [
              "<Figure size 432x288 with 1 Axes>"
            ],
            "image/png": "[encoded data removed]"
          },
          "metadata": {
            "needs_background": "light"
          }
        }
      ]
    },
    {
      "cell_type": "markdown",
      "source": [
        "Although not as important to check since it won't affect training, the validation dataset also has a decent number of images for each class."
      ],
      "metadata": {
        "id": "YcPyDlCQEacJ"
      }
    },
    {
      "cell_type": "markdown",
      "source": [
        "# Creating a Dense Neural Network\n",
        "\n",
        "---\n",
        "\n"
      ],
      "metadata": {
        "id": "69HCbXWSFTtB"
      }
    },
    {
      "cell_type": "markdown",
      "source": [
        "For this step, we're just going to make a densely connected neural network that takes the images as inputs, and returns an array of size 10, corresponding to the number of digits, where each value is the probability of the image being the digit associated with the index.\n",
        "\n",
        "An example output may look like: [0, 0, 0, 1, 0, 0, 0, 0, 0, 0]\n",
        "\n",
        "This can be seen in the model from the last layer we add, the Dense layer of size 10, with softmax activation.\n",
        "\n",
        "\n",
        "This would indicate the model is predicting the digit 3, since the probability in the index 3 is as high as possible.\n",
        "\n",
        "\n",
        "For the models in this notebook, I'll primarily be using TensorFlow and Keras. If you're new to TensorFlow, there's some tutorials [here](https://www.tensorflow.org/tutorials) that can get you started."
      ],
      "metadata": {
        "id": "-WJIckVBIJt7"
      }
    },
    {
      "cell_type": "code",
      "source": [
        "d_model = Sequential()\n",
        "d_model.add(Flatten(input_shape=(28, 28, 1)))\n",
        "d_model.add(Dense(32, activation='relu'))\n",
        "d_model.add(Dense(16, activation='relu'))\n",
        "d_model.add(Dense(10, activation='softmax'))\n",
        "\n",
        "d_model.summary()"
      ],
      "metadata": {
        "colab": {
          "base_uri": "https://localhost:8080/"
        },
        "id": "hAv1_d8qFZge",
        "outputId": "ef0668c4-2d59-4fd8-e422-452934dabbfb"
      },
      "execution_count": null,
      "outputs": [
        {
          "output_type": "stream",
          "name": "stdout",
          "text": [
            "Model: \"sequential\"\n",
            "_________________________________________________________________\n",
            " Layer (type)                Output Shape              Param #   \n",
            "=================================================================\n",
            " flatten (Flatten)           (None, 784)               0         \n",
            "                                                                 \n",
            " dense (Dense)               (None, 32)                25120     \n",
            "                                                                 \n",
            " dense_1 (Dense)             (None, 16)                528       \n",
            "                                                                 \n",
            " dense_2 (Dense)             (None, 10)                170       \n",
            "                                                                 \n",
            "=================================================================\n",
            "Total params: 25,818\n",
            "Trainable params: 25,818\n",
            "Non-trainable params: 0\n",
            "_________________________________________________________________\n"
          ]
        }
      ]
    },
    {
      "cell_type": "markdown",
      "source": [
        "Since we're passing the digit numbers into the model as our labels instead of one-hot encoded vectors, we use sparse categorical crossentropy instead of normal categorical crossentropy."
      ],
      "metadata": {
        "id": "0D5tW0CsPgHs"
      }
    },
    {
      "cell_type": "code",
      "source": [
        "d_model.compile(optimizer='adam',\n",
        "              loss=SparseCategoricalCrossentropy(from_logits=False),\n",
        "              metrics=['accuracy'])"
      ],
      "metadata": {
        "id": "IzyIPOe5GJLh"
      },
      "execution_count": null,
      "outputs": []
    },
    {
      "cell_type": "markdown",
      "source": [
        "Here we create Keras' [EarlyStopping callback](https://keras.io/api/callbacks/early_stopping/). \n",
        "\n",
        "This will stop the model from training further when the model goes 1 epoch without a decrease in validation loss (the patience). Typically, we want to implement some kind of early stopping mechanism like this so that our model does not overfit to the training data. \n",
        "\n",
        "Although we could just reduce the number of epochs, this approach would prevent us from reaching the best model possible, as training could end before reaching our best accuracy."
      ],
      "metadata": {
        "id": "-dbdNv_YmT9c"
      }
    },
    {
      "cell_type": "code",
      "source": [
        "callback = EarlyStopping(monitor='val_loss', patience=1, restore_best_weights=True)"
      ],
      "metadata": {
        "id": "Rgwl1zwkmUZn"
      },
      "execution_count": null,
      "outputs": []
    },
    {
      "cell_type": "markdown",
      "source": [
        "Below is the code that was used to generate our model. Note that you may receive different results when running this section over again. Therefore, I have saved a model that we will instead use for analysis as otherwise I would be doing new analysis on a model each time I had to run this code (which would be a lot of times as I reconnect to Google Colab's runtime)."
      ],
      "metadata": {
        "id": "h8JW6NVqaTYu"
      }
    },
    {
      "cell_type": "code",
      "source": [
        "d_history = d_model.fit(x=x_train, y=y_train,\n",
        "                    validation_data=(x_valid, y_valid),\n",
        "                    epochs=50,\n",
        "                    callbacks=[callback])"
      ],
      "metadata": {
        "colab": {
          "base_uri": "https://localhost:8080/"
        },
        "id": "EYBoyGk5GLxV",
        "outputId": "09dac3d1-e99c-4a0f-cccc-28f62a33c268"
      },
      "execution_count": null,
      "outputs": [
        {
          "output_type": "stream",
          "name": "stdout",
          "text": [
            "Epoch 1/50\n",
            "1563/1563 [==============================] - 3s 2ms/step - loss: 1.9037 - accuracy: 0.6142 - val_loss: 0.8486 - val_accuracy: 0.7244\n",
            "Epoch 2/50\n",
            "1563/1563 [==============================] - 2s 2ms/step - loss: 0.7127 - accuracy: 0.7707 - val_loss: 0.5500 - val_accuracy: 0.8490\n",
            "Epoch 3/50\n",
            "1563/1563 [==============================] - 2s 2ms/step - loss: 0.4930 - accuracy: 0.8709 - val_loss: 0.4873 - val_accuracy: 0.8840\n",
            "Epoch 4/50\n",
            "1563/1563 [==============================] - 2s 2ms/step - loss: 0.4089 - accuracy: 0.8960 - val_loss: 0.4054 - val_accuracy: 0.8949\n",
            "Epoch 5/50\n",
            "1563/1563 [==============================] - 2s 2ms/step - loss: 0.3637 - accuracy: 0.9072 - val_loss: 0.3825 - val_accuracy: 0.9094\n",
            "Epoch 6/50\n",
            "1563/1563 [==============================] - 3s 2ms/step - loss: 0.3317 - accuracy: 0.9148 - val_loss: 0.3545 - val_accuracy: 0.9149\n",
            "Epoch 7/50\n",
            "1563/1563 [==============================] - 2s 2ms/step - loss: 0.3002 - accuracy: 0.9212 - val_loss: 0.3453 - val_accuracy: 0.9090\n",
            "Epoch 8/50\n",
            "1563/1563 [==============================] - 3s 2ms/step - loss: 0.2834 - accuracy: 0.9245 - val_loss: 0.3255 - val_accuracy: 0.9178\n",
            "Epoch 9/50\n",
            "1563/1563 [==============================] - 2s 2ms/step - loss: 0.2695 - accuracy: 0.9285 - val_loss: 0.3148 - val_accuracy: 0.9214\n",
            "Epoch 10/50\n",
            "1563/1563 [==============================] - 2s 2ms/step - loss: 0.2615 - accuracy: 0.9306 - val_loss: 0.2828 - val_accuracy: 0.9242\n",
            "Epoch 11/50\n",
            "1563/1563 [==============================] - 2s 2ms/step - loss: 0.2523 - accuracy: 0.9319 - val_loss: 0.2995 - val_accuracy: 0.9266\n"
          ]
        }
      ]
    },
    {
      "cell_type": "markdown",
      "source": [
        "This is the code to save the model and it's history. It's commented out so that the model is not overwritten each runthrough of the notebook. This allows our data analysis to be a bit more standardized."
      ],
      "metadata": {
        "id": "ot0aM0AYCBky"
      }
    },
    {
      "cell_type": "code",
      "source": [
        "'''\n",
        "d_model.save(\"./drive/MyDrive/College/CMSC320/saved_model/dnn\", overwrite=True)\n",
        "\n",
        "hist_df = pd.DataFrame(d_history.history)\n",
        "with open(\"./drive/MyDrive/College/CMSC320/saved_model/dnn_history.csv\", mode='w') as f:\n",
        "    hist_df.to_csv(f)\n",
        "'''"
      ],
      "metadata": {
        "id": "e96IN1uYy1QV",
        "colab": {
          "base_uri": "https://localhost:8080/",
          "height": 35
        },
        "outputId": "94624bf9-cec6-49dc-f92a-96c552c5f1ee"
      },
      "execution_count": null,
      "outputs": [
        {
          "output_type": "execute_result",
          "data": {
            "text/plain": [
              "'\\nd_model.save(\"./drive/MyDrive/College/CMSC320/saved_model/dnn\", overwrite=True)\\n\\nhist_df = pd.DataFrame(d_history.history)\\nwith open(\"./drive/MyDrive/College/CMSC320/saved_model/dnn_history.csv\", mode=\\'w\\') as f:\\n    hist_df.to_csv(f)\\n'"
            ],
            "application/vnd.google.colaboratory.intrinsic+json": {
              "type": "string"
            }
          },
          "metadata": {},
          "execution_count": 30
        }
      ]
    },
    {
      "cell_type": "code",
      "source": [
        "# Loading pretrained model for standardized results and analysis for when Colab dies\n",
        "\n",
        "d_model = load_model(\"./drive/MyDrive/College/CMSC320/saved_model/dnn\")\n",
        "d_history = pd.read_csv(\"./drive/MyDrive/College/CMSC320/saved_model/dnn_history.csv\")"
      ],
      "metadata": {
        "id": "JVOrIaMMH4xR"
      },
      "execution_count": null,
      "outputs": []
    },
    {
      "cell_type": "markdown",
      "source": [
        "# Evaluating Dense Neural Network Training\n",
        "\n",
        "---\n"
      ],
      "metadata": {
        "id": "xTa8rrrwY06W"
      }
    },
    {
      "cell_type": "code",
      "source": [
        "plt.plot(d_history['accuracy'], label='accuracy')\n",
        "plt.plot(d_history['val_accuracy'], label = 'val_accuracy')\n",
        "plt.title(\"Accuracy of Dense Neural Network During Training\")\n",
        "plt.xlabel('Epoch')\n",
        "plt.ylabel('Accuracy')\n",
        "plt.ylim([0, 1])\n",
        "plt.legend(loc='lower right')\n",
        "\n",
        "test_loss, test_acc = d_model.evaluate(x_valid,  y_valid, verbose=2)"
      ],
      "metadata": {
        "colab": {
          "base_uri": "https://localhost:8080/",
          "height": 313
        },
        "id": "AfhGdD0fH88l",
        "outputId": "72c8a711-b0ce-4e15-94d0-63812dea550c"
      },
      "execution_count": null,
      "outputs": [
        {
          "output_type": "stream",
          "name": "stdout",
          "text": [
            "313/313 - 0s - loss: 0.3627 - accuracy: 0.9038 - 389ms/epoch - 1ms/step\n"
          ]
        },
        {
          "output_type": "display_data",
          "data": {
            "text/plain": [
              "<Figure size 432x288 with 1 Axes>"
            ],
            "image/png": "[encoded data removed]"
          },
          "metadata": {
            "needs_background": "light"
          }
        }
      ]
    },
    {
      "cell_type": "markdown",
      "source": [
        "Here we can see the training accuracy and validation accuracy begin to converge after about 1 epoch.\n",
        "\n",
        "As expected, our validation accuracy decreased at the end of training. This is a result of our EarlyStopping callback from earlier - training will stop when the model begins to perform worse than previously.\n",
        "\n",
        "Fortunately though, thanks to setting `restore_best_weights=True` in the callback, the model returns to the weights from the epoch before validation loss began to increase.\n"
      ],
      "metadata": {
        "id": "VKcwx9aTdusW"
      }
    },
    {
      "cell_type": "code",
      "source": [
        "plt.plot(d_history['loss'], label='loss')\n",
        "plt.plot(d_history['val_loss'], label = 'val_loss')\n",
        "plt.title(\"Loss of Dense Neural Network During Training\")\n",
        "plt.xlabel('Epoch')\n",
        "plt.ylabel('Loss')\n",
        "plt.ylim([0, 2])\n",
        "plt.legend(loc='upper right')\n",
        "plt.show()"
      ],
      "metadata": {
        "colab": {
          "base_uri": "https://localhost:8080/",
          "height": 295
        },
        "id": "h5oeQpdNxYTn",
        "outputId": "c95793a5-23d2-44c3-fc16-faaad2764728"
      },
      "execution_count": null,
      "outputs": [
        {
          "output_type": "display_data",
          "data": {
            "text/plain": [
              "<Figure size 432x288 with 1 Axes>"
            ],
            "image/png": "[encoded data removed]"
          },
          "metadata": {
            "needs_background": "light"
          }
        }
      ]
    },
    {
      "cell_type": "markdown",
      "source": [
        "Like the accuracy graph, the loss graph also indicates the model was beginning to experience some overfitting at the end of training, as the validation loss began to increase."
      ],
      "metadata": {
        "id": "JRO0HnhCzgNJ"
      }
    },
    {
      "cell_type": "markdown",
      "source": [
        "# Evaluating Dense Neural Network Predictions\n",
        "\n",
        "---"
      ],
      "metadata": {
        "id": "FmpDYoh_3Lnt"
      }
    },
    {
      "cell_type": "markdown",
      "source": [
        "\n",
        "\n",
        "One important way to evaluate the model is to see how its number of predictions vary from the true number of digits.\n",
        "\n",
        "Using the test dataset, we will get the model's predictions, and then compare the two. We also make use of Numpy's [argmax function](https://numpy.org/doc/stable/reference/generated/numpy.argmax.html), which returns the index of the largest value in an array. \n",
        "\n",
        "In this case, that will get us an exact prediction from the model in single digit form."
      ],
      "metadata": {
        "id": "EuT825DvcFH8"
      }
    },
    {
      "cell_type": "code",
      "source": [
        "y_test_preds = np.argmax(d_model.predict(x_test), axis=1)"
      ],
      "metadata": {
        "colab": {
          "base_uri": "https://localhost:8080/"
        },
        "id": "usQMxz0WIgu6",
        "outputId": "536d60bd-552a-41ba-dc43-f2951bf585ed"
      },
      "execution_count": null,
      "outputs": [
        {
          "output_type": "stream",
          "name": "stdout",
          "text": [
            "313/313 [==============================] - 0s 1ms/step\n"
          ]
        }
      ]
    },
    {
      "cell_type": "code",
      "source": [
        "pred_bincount = np.bincount(y_test_preds)\n",
        "truth_bincount = np.bincount(y_test)\n",
        "plt.title(\"Difference in Num Predictions and Num True Labels in Testing Dataset\")\n",
        "plt.ylabel(\"Diff in Num Preds and Num True Labels\")\n",
        "plt.xlabel(\"Label\")\n",
        "plt.xticks(range(0, 10))\n",
        "plt.gca().axhline(y=0, color=\"black\")\n",
        "plt.bar(range(0, 10), pred_bincount - truth_bincount)\n",
        "plt.show()"
      ],
      "metadata": {
        "colab": {
          "base_uri": "https://localhost:8080/",
          "height": 295
        },
        "id": "VQGWM9KzKH_2",
        "outputId": "3d280639-1776-4a97-b854-d5622cbe29c8"
      },
      "execution_count": null,
      "outputs": [
        {
          "output_type": "display_data",
          "data": {
            "text/plain": [
              "<Figure size 432x288 with 1 Axes>"
            ],
            "image/png": "[encoded data removed]"
          },
          "metadata": {
            "needs_background": "light"
          }
        }
      ]
    },
    {
      "cell_type": "markdown",
      "source": [
        "In the above graph, we're comparing the difference in number of predictions versus the number of true labels for each digit in the test set.\n",
        "\n",
        "Positive values indicate more predictions than actual labels for that digit.\n",
        "\n",
        "\n",
        "\n",
        "As it turns out, our model is significantly overclassifying things as the digit 8, and underclassifying things as the digits 1 and 2.\n",
        "\n",
        "One possible improvement that could be made to the network could be to add some dropout layers. This could help ensure the nodes in the network learn different features, instead of multiple nodes learning similar features from the digits. This could possibly allow the model to learn more significant features from the digits 1 and 2, improving our underclassification."
      ],
      "metadata": {
        "id": "WsUARy25auWl"
      }
    },
    {
      "cell_type": "markdown",
      "source": [
        "---\n",
        "We should also look into how the model is misclassifying results. We know that we're underclassifying 1 and 2 and overclassifying 8, but how? What true digits are being predicted into what labels?\n",
        "\n",
        "\n",
        "To start, we'll make a confusion matrix that shows where our true digits are ending up. I found [this resource](https://www.stackvidhya.com/plot-confusion-matrix-in-python-and-why/) to be quite helpful to learn how to make a confusion matrix.\n",
        "\n"
      ],
      "metadata": {
        "id": "7jKVw-zP5Zl3"
      }
    },
    {
      "cell_type": "code",
      "source": [
        "cf_matr = confusion_matrix(y_test, y_test_preds)\n",
        "\n",
        "ax = sns.heatmap(cf_matr, annot=True, fmt='0', cmap='Blues')\n",
        "fig = plt.gcf()\n",
        "fig.set_figheight(10)\n",
        "fig.set_figwidth(15)\n",
        "\n",
        "ax.set_ylabel(\"True Digit\")\n",
        "ax.set_xlabel(\"Predicted Digit\")\n",
        "ax.set_title(\"Confusion Matrix of True Digits vs. Predicted Digits\")\n",
        "plt.show()"
      ],
      "metadata": {
        "colab": {
          "base_uri": "https://localhost:8080/",
          "height": 621
        },
        "id": "JZKR_PGSLMto",
        "outputId": "3051b146-f6d2-433b-f05d-5a15b0e910d9"
      },
      "execution_count": null,
      "outputs": [
        {
          "output_type": "display_data",
          "data": {
            "text/plain": [
              "<Figure size 1080x720 with 2 Axes>"
            ],
            "image/png": "[encoded data removed]"
          },
          "metadata": {
            "needs_background": "light"
          }
        }
      ]
    },
    {
      "cell_type": "markdown",
      "source": [
        "From the confusion matrix, we can see that we're often predicting 1 and 2 as 8s. This would explain why we were often underclassifying 1 and 2, while overclassifying 8.\n",
        "\n",
        "We can also see that we're predicting:\n",
        "- 5s as 3s\n",
        "- 5s as 8s\n",
        "- 8s as 5s\n",
        "- 9s as 4s\n",
        "\n",
        "\n",
        "Although, to be honest, I find it hard to gain insights from a confusion matrix this big.\n",
        "So, we'll also make some bar graphs of the misclassifications."
      ],
      "metadata": {
        "id": "uEr0b91EP46t"
      }
    },
    {
      "cell_type": "markdown",
      "source": [
        "---\n",
        "\n",
        "To start, we'll make a dictionary where each key represents the true labels, and the values will store lists with what the model predicted the key to be."
      ],
      "metadata": {
        "id": "1OE3e-v7O3yG"
      }
    },
    {
      "cell_type": "code",
      "source": [
        "misclassifications = {}\n",
        "for i in range(len(y_test)):\n",
        "    true_label = y_test[i]\n",
        "    pred_label = y_test_preds[i]\n",
        "\n",
        "    if true_label != pred_label:\n",
        "        misclassifications.setdefault(true_label, [])\n",
        "        misclassifications.get(true_label).append(pred_label)"
      ],
      "metadata": {
        "id": "P0QLf8sw6MK0"
      },
      "execution_count": null,
      "outputs": []
    },
    {
      "cell_type": "markdown",
      "source": [
        "Next, we'll graph them so that it's easier to interpret:"
      ],
      "metadata": {
        "id": "DHBel_zwEIKT"
      }
    },
    {
      "cell_type": "code",
      "source": [
        "fig, ax = plt.subplots(2, 5)\n",
        "fig.set_figheight(15)\n",
        "fig.set_figwidth(30)\n",
        "\n",
        "\n",
        "for i in range(0, 5):\n",
        "    ax[0, i].set_title(f\"Misclassifications When True Label Was {i}\")\n",
        "    ax[0, i].set_ylabel(\"Number of Misclassifications\")\n",
        "    ax[0, i].set_xlabel(\"Label Predicted Instead of True\")\n",
        "    ax[0, i].set_ylim([0, 80])\n",
        "    ax[0, i].set_xticks(range(0, 10))\n",
        "\n",
        "    ax[0, i].bar(range(0, 10), np.bincount(misclassifications.get(i), minlength=10))\n",
        "\n",
        "\n",
        "for i in range(5, 10):\n",
        "    ax[1, i-5].set_title(f\"Misclassifications When True Label Was {i}\")\n",
        "    ax[1, i-5].set_ylabel(\"Number of Misclassifications\")\n",
        "    ax[1, i-5].set_xlabel(\"Label Predicted Instead of True\")\n",
        "    ax[1, i-5].set_ylim([0, 80])\n",
        "    ax[1, i-5].set_xticks(range(0, 10))\n",
        "\n",
        "    ax[1, i-5].bar(range(0, 10), np.bincount(misclassifications.get(i), minlength=10))\n",
        "\n",
        "\n",
        "plt.show()"
      ],
      "metadata": {
        "colab": {
          "base_uri": "https://localhost:8080/",
          "height": 893
        },
        "id": "qQTI15WE7btf",
        "outputId": "15097ea5-d3e5-452f-95bf-3c4d90ee79d4"
      },
      "execution_count": null,
      "outputs": [
        {
          "output_type": "display_data",
          "data": {
            "text/plain": [
              "<Figure size 2160x1080 with 10 Axes>"
            ],
            "image/png": "[encoded data removed]"
          },
          "metadata": {
            "needs_background": "light"
          }
        }
      ]
    },
    {
      "cell_type": "markdown",
      "source": [
        "Here, we can see the same trends as the confusion matrix, but a bit clearer. Our model struggles a lot with predicting 5s, often confusing them with 3s and 8s, and vice versa.\n",
        "\n",
        "We are also predicting 1s and 2s as 8, although we're not predicting 8s as 1 and 2.\n",
        "\n",
        "In certain instances, we're also predicting digits that are visually similar.\n",
        "We're also predicting 5s instead of 6s often, and a decent number of 9s and 4s are getting mixed up.\n",
        "\n"
      ],
      "metadata": {
        "id": "uoiBNsgOByd2"
      }
    },
    {
      "cell_type": "markdown",
      "source": [
        "## The Numbers\n",
        "---\n",
        "\n"
      ],
      "metadata": {
        "id": "QTz0AbQfdVfm"
      }
    },
    {
      "cell_type": "markdown",
      "source": [
        "We've yet to look indepth at the metrics of accuracy, precision and recall of the model. \n",
        "\n",
        "First, we'll start with the accuracy of each digit, which unfortunately isn't provided by a neat sklearn function. Instead, we'll get it from the confusion matrix, by dividing the diagonals (the number of true positives) by the total number of labels for each number."
      ],
      "metadata": {
        "id": "8es-bMiGdqOH"
      }
    },
    {
      "cell_type": "code",
      "source": [
        "cf_matr.diagonal()/cf_matr.sum(axis=1)"
      ],
      "metadata": {
        "colab": {
          "base_uri": "https://localhost:8080/"
        },
        "id": "RRY-lgx0Y2Vt",
        "outputId": "372afe78-05f4-44c2-eef6-3f5795d18002"
      },
      "execution_count": null,
      "outputs": [
        {
          "output_type": "execute_result",
          "data": {
            "text/plain": [
              "array([0.98163265, 0.94713656, 0.88565891, 0.8960396 , 0.93686354,\n",
              "       0.82286996, 0.91962422, 0.90758755, 0.8973306 , 0.87512389])"
            ]
          },
          "metadata": {},
          "execution_count": 39
        }
      ]
    },
    {
      "cell_type": "markdown",
      "source": [
        "In the array above, the index corresponds to the digit.\n",
        "\n",
        "We can see that our accuracy for 5 (82%) is quite bad compared to every other accuracy. This makes sense as we we predicted almost 70 3s and 50 8s instead of 5, so our overall number of true positives for 5 is going to be subpar."
      ],
      "metadata": {
        "id": "e2F_7mGMeiZm"
      }
    },
    {
      "cell_type": "markdown",
      "source": [
        "Next, we'll look at our precision and recall scores for each label.\n",
        "\n",
        "Sklearn provides a great [classification_report function](https://scikit-learn.org/stable/modules/generated/sklearn.metrics.classification_report.html) that calculates them all for us:"
      ],
      "metadata": {
        "id": "GvjOAQUMgRsN"
      }
    },
    {
      "cell_type": "code",
      "source": [
        "print(classification_report(y_test, y_test_preds))"
      ],
      "metadata": {
        "colab": {
          "base_uri": "https://localhost:8080/"
        },
        "id": "VmNPk1J2ZCeA",
        "outputId": "ebef543b-44d7-4536-fe95-59b337e26232"
      },
      "execution_count": null,
      "outputs": [
        {
          "output_type": "stream",
          "name": "stdout",
          "text": [
            "              precision    recall  f1-score   support\n",
            "\n",
            "           0       0.95      0.98      0.96       980\n",
            "           1       0.99      0.95      0.97      1135\n",
            "           2       0.93      0.89      0.91      1032\n",
            "           3       0.90      0.90      0.90      1010\n",
            "           4       0.90      0.94      0.92       982\n",
            "           5       0.82      0.82      0.82       892\n",
            "           6       0.94      0.92      0.93       958\n",
            "           7       0.95      0.91      0.93      1028\n",
            "           8       0.79      0.90      0.84       974\n",
            "           9       0.91      0.88      0.89      1009\n",
            "\n",
            "    accuracy                           0.91     10000\n",
            "   macro avg       0.91      0.91      0.91     10000\n",
            "weighted avg       0.91      0.91      0.91     10000\n",
            "\n"
          ]
        }
      ]
    },
    {
      "cell_type": "markdown",
      "source": [
        "Our precisions for 5 and 8 are comparatively low: 82% and 79% respectively. So, when we're predicting 5 or 8 for an image, only 82% and 79% of them are actually 5s and 8s. This lowers my certainty in the model that the classification is correct when it returns a 5 or 8.\n",
        "\n",
        "The only below average recall from the model is of 5 at 82% again. Of the digits labeled 5 in our test set, the model only predicted 82% of them. This tells me the model has some difficulty determining what a 5 should look like.\n",
        "\n"
      ],
      "metadata": {
        "id": "Y794RNsOgrci"
      }
    },
    {
      "cell_type": "markdown",
      "source": [
        "Overall, the dense neural network can classify relatively well, but has some difficulty especially with the digits 5 and 8."
      ],
      "metadata": {
        "id": "X0n-NCPWD1Wa"
      }
    },
    {
      "cell_type": "markdown",
      "source": [
        "# Creating the Convolutional Neural Network\n",
        "\n",
        "---"
      ],
      "metadata": {
        "id": "aBFJCn0gZkwk"
      }
    },
    {
      "cell_type": "markdown",
      "source": [
        "Hopefully, the convolutional network can better extract features than the dense network due to its convolutional and pooling layers. This should result in less misclassifications of similar digits like what we saw in the dense network.\n",
        "\n",
        "This model follows the base model found from another TensorFlow tutorial [here](https://www.tensorflow.org/tutorials/images/cnn).\n",
        "\n",
        "Just like the dense neural network, the input to this model will be our same input images, and our outputs will be arrays of size 10 where each value is the probability of the image being the digit associated with the index.\n"
      ],
      "metadata": {
        "id": "uZ8hNrexgsn8"
      }
    },
    {
      "cell_type": "code",
      "source": [
        "c_model = Sequential()\n",
        "c_model.add(Conv2D(28, (4, 4), activation='relu', input_shape=(28, 28, 1)))\n",
        "c_model.add(MaxPooling2D((2, 2)))\n",
        "c_model.add(Conv2D(16, (2, 2), activation='relu'))\n",
        "c_model.add(MaxPooling2D((2, 2)))\n",
        "c_model.add(Conv2D(8, (2, 2), activation='relu'))\n",
        "c_model.add(Flatten())\n",
        "c_model.add(Dense(16, activation='relu'))\n",
        "c_model.add(Dense(10, activation='softmax'))\n",
        "\n",
        "c_model.summary()"
      ],
      "metadata": {
        "colab": {
          "base_uri": "https://localhost:8080/"
        },
        "id": "NjF8ObYPZmae",
        "outputId": "446e8b86-403b-4dfe-9086-89e81a0bd06f"
      },
      "execution_count": null,
      "outputs": [
        {
          "output_type": "stream",
          "name": "stdout",
          "text": [
            "Model: \"sequential_1\"\n",
            "_________________________________________________________________\n",
            " Layer (type)                Output Shape              Param #   \n",
            "=================================================================\n",
            " conv2d (Conv2D)             (None, 25, 25, 28)        476       \n",
            "                                                                 \n",
            " max_pooling2d (MaxPooling2D  (None, 12, 12, 28)       0         \n",
            " )                                                               \n",
            "                                                                 \n",
            " conv2d_1 (Conv2D)           (None, 11, 11, 16)        1808      \n",
            "                                                                 \n",
            " max_pooling2d_1 (MaxPooling  (None, 5, 5, 16)         0         \n",
            " 2D)                                                             \n",
            "                                                                 \n",
            " conv2d_2 (Conv2D)           (None, 4, 4, 8)           520       \n",
            "                                                                 \n",
            " flatten_1 (Flatten)         (None, 128)               0         \n",
            "                                                                 \n",
            " dense_3 (Dense)             (None, 16)                2064      \n",
            "                                                                 \n",
            " dense_4 (Dense)             (None, 10)                170       \n",
            "                                                                 \n",
            "=================================================================\n",
            "Total params: 5,038\n",
            "Trainable params: 5,038\n",
            "Non-trainable params: 0\n",
            "_________________________________________________________________\n"
          ]
        }
      ]
    },
    {
      "cell_type": "markdown",
      "source": [
        "Note how this convolutional network has only a fifth of the parameters of the dense one."
      ],
      "metadata": {
        "id": "8sPisBIiSYdw"
      }
    },
    {
      "cell_type": "code",
      "source": [
        "c_model.compile(optimizer='adam',\n",
        "              loss=SparseCategoricalCrossentropy(from_logits=False),\n",
        "              metrics=['accuracy'])"
      ],
      "metadata": {
        "id": "H-4QAbzmcuio"
      },
      "execution_count": null,
      "outputs": []
    },
    {
      "cell_type": "markdown",
      "source": [
        "Just like before, we'll be using Keras' [EarlyStopping callback](https://keras.io/api/callbacks/early_stopping/) to ensure our model is trained the best it can without overfitting:"
      ],
      "metadata": {
        "id": "BF3i2bqHYzPl"
      }
    },
    {
      "cell_type": "code",
      "source": [
        "callback = EarlyStopping(monitor='val_loss', patience=1, restore_best_weights=True)"
      ],
      "metadata": {
        "id": "2kHcM2dzXqvZ"
      },
      "execution_count": null,
      "outputs": []
    },
    {
      "cell_type": "markdown",
      "source": [
        "Once again, this is the code to generate the model. We will be loading a model that was trained using this code later, to standardize analysis."
      ],
      "metadata": {
        "id": "9pSus7oybOIZ"
      }
    },
    {
      "cell_type": "code",
      "source": [
        "c_history = c_model.fit(x=x_train, y=y_train,\n",
        "                    validation_data=(x_valid, y_valid),\n",
        "                    epochs=50,\n",
        "                    callbacks=[callback])"
      ],
      "metadata": {
        "colab": {
          "base_uri": "https://localhost:8080/"
        },
        "id": "hlzscepydSFu",
        "outputId": "8ecb4d6c-472c-41cd-e098-daec0e6287ca"
      },
      "execution_count": null,
      "outputs": [
        {
          "output_type": "stream",
          "name": "stdout",
          "text": [
            "Epoch 1/50\n",
            "1563/1563 [==============================] - 22s 14ms/step - loss: 0.6654 - accuracy: 0.8191 - val_loss: 0.1710 - val_accuracy: 0.9499\n",
            "Epoch 2/50\n",
            "1563/1563 [==============================] - 21s 13ms/step - loss: 0.1445 - accuracy: 0.9573 - val_loss: 0.1305 - val_accuracy: 0.9611\n",
            "Epoch 3/50\n",
            "1563/1563 [==============================] - 22s 14ms/step - loss: 0.1084 - accuracy: 0.9675 - val_loss: 0.0943 - val_accuracy: 0.9708\n",
            "Epoch 4/50\n",
            "1563/1563 [==============================] - 21s 13ms/step - loss: 0.0856 - accuracy: 0.9747 - val_loss: 0.0735 - val_accuracy: 0.9766\n",
            "Epoch 5/50\n",
            "1563/1563 [==============================] - 21s 13ms/step - loss: 0.0770 - accuracy: 0.9766 - val_loss: 0.0844 - val_accuracy: 0.9753\n"
          ]
        }
      ]
    },
    {
      "cell_type": "code",
      "source": [
        "'''\n",
        "c_model.save(\"./drive/MyDrive/College/CMSC320/saved_model/cnn\", overwrite=True)\n",
        "\n",
        "hist_df = pd.DataFrame(c_history.history)\n",
        "with open(\"./drive/MyDrive/College/CMSC320/saved_model/cnn_history.csv\", mode='w') as f:\n",
        "    hist_df.to_csv(f)\n",
        "'''"
      ],
      "metadata": {
        "id": "k-iceF-wdlzi",
        "colab": {
          "base_uri": "https://localhost:8080/"
        },
        "outputId": "6b25972a-d35d-4288-e099-dd3ebe951e72"
      },
      "execution_count": null,
      "outputs": [
        {
          "output_type": "stream",
          "name": "stderr",
          "text": [
            "WARNING:absl:Found untraced functions such as _jit_compiled_convolution_op, _jit_compiled_convolution_op, _jit_compiled_convolution_op while saving (showing 3 of 3). These functions will not be directly callable after loading.\n"
          ]
        }
      ]
    },
    {
      "cell_type": "code",
      "source": [
        "# Loading pretrained model for standardized results and analysis\n",
        "\n",
        "c_model = load_model(\"./drive/MyDrive/College/CMSC320/saved_model/cnn\")\n",
        "c_history = pd.read_csv(\"./drive/MyDrive/College/CMSC320/saved_model/cnn_history.csv\")"
      ],
      "metadata": {
        "id": "eH0kwrxnPEd6"
      },
      "execution_count": null,
      "outputs": []
    },
    {
      "cell_type": "markdown",
      "source": [
        "# Evaluating Convolutional Neural Network Training\n",
        "\n",
        "\n",
        "---\n",
        "\n"
      ],
      "metadata": {
        "id": "1ZZG-Z1CQh2R"
      }
    },
    {
      "cell_type": "code",
      "source": [
        "plt.plot(c_history['accuracy'], label='accuracy')\n",
        "plt.plot(c_history['val_accuracy'], label = 'val_accuracy')\n",
        "plt.title(\"Accuracy of Convolutional Neural Network During Training\")\n",
        "plt.xlabel('Epoch')\n",
        "plt.ylabel('Accuracy')\n",
        "plt.ylim([0, 1])\n",
        "plt.legend(loc='lower right')\n",
        "\n",
        "test_loss, test_acc = c_model.evaluate(x_test,  y_test, verbose=2)"
      ],
      "metadata": {
        "colab": {
          "base_uri": "https://localhost:8080/",
          "height": 313
        },
        "id": "vk4-GDMnmMVw",
        "outputId": "efd25925-6c80-4ed1-de13-e4bf958c7f80"
      },
      "execution_count": null,
      "outputs": [
        {
          "output_type": "stream",
          "name": "stdout",
          "text": [
            "313/313 - 1s - loss: 0.0730 - accuracy: 0.9775 - 1s/epoch - 5ms/step\n"
          ]
        },
        {
          "output_type": "display_data",
          "data": {
            "text/plain": [
              "<Figure size 432x288 with 1 Axes>"
            ],
            "image/png": "[encoded data removed]"
          },
          "metadata": {
            "needs_background": "light"
          }
        }
      ]
    },
    {
      "cell_type": "markdown",
      "source": [
        "Despite having a fifth of the parameters, the accuracy of the convolutional network surpassed that of the dense network during training. This is likely due to convolutional networks' improved ability to extract features from their inputs.\n",
        "\n",
        "However, you might be able to get the dense network to have similar levels of accuracy, given the appropriate tweaks to the model's hyperparameters and addition of some dropout.\n",
        "\n",
        "By about the end of the first epoch, accuracy and validation accuracy converged to pretty close to their max values during training. "
      ],
      "metadata": {
        "id": "EFWwlxbFQwhS"
      }
    },
    {
      "cell_type": "code",
      "source": [
        "plt.plot(c_history['loss'], label='loss')\n",
        "plt.plot(c_history['val_loss'], label = 'val_loss')\n",
        "plt.title(\"Loss of Convolutional Neural Network During Training\")\n",
        "plt.xlabel('Epoch')\n",
        "plt.ylabel('Loss')\n",
        "plt.ylim([0, 1])\n",
        "plt.legend(loc='upper right')\n",
        "plt.show()"
      ],
      "metadata": {
        "id": "45LmNfoQnJ2D",
        "colab": {
          "base_uri": "https://localhost:8080/",
          "height": 295
        },
        "outputId": "2f326930-5183-4447-b864-3a75ea16a318"
      },
      "execution_count": null,
      "outputs": [
        {
          "output_type": "display_data",
          "data": {
            "text/plain": [
              "<Figure size 432x288 with 1 Axes>"
            ],
            "image/png": "[encoded data removed]"
          },
          "metadata": {
            "needs_background": "light"
          }
        }
      ]
    },
    {
      "cell_type": "markdown",
      "source": [
        "The loss of the convolutional network stayed much smaller than the loss of the dense network. The dense network started with a loss of almost 2, whereas the convolutional network started at less than 1."
      ],
      "metadata": {
        "id": "MwRa5OUJTq2J"
      }
    },
    {
      "cell_type": "markdown",
      "source": [
        "# Evaluating Convolutional Neural Network Predictions\n",
        "\n",
        "---"
      ],
      "metadata": {
        "id": "nzJYpD5hVLgF"
      }
    },
    {
      "cell_type": "markdown",
      "source": [
        "Just like with the dense network, let's see how it's predictions on the test set vary from the true digits."
      ],
      "metadata": {
        "id": "W0s9RVxbVLgH"
      }
    },
    {
      "cell_type": "code",
      "source": [
        "y_test_preds = np.argmax(c_model.predict(x_test), axis=1)"
      ],
      "metadata": {
        "colab": {
          "base_uri": "https://localhost:8080/"
        },
        "outputId": "8340d958-8b96-47c6-a3f6-51b9306e7434",
        "id": "RL25Rj_bVLgI"
      },
      "execution_count": null,
      "outputs": [
        {
          "output_type": "stream",
          "name": "stdout",
          "text": [
            "313/313 [==============================] - 2s 5ms/step\n"
          ]
        }
      ]
    },
    {
      "cell_type": "markdown",
      "source": [
        "Looking at the differences in number of predictions vs number of true labels again:"
      ],
      "metadata": {
        "id": "ok7BA89VVLgJ"
      }
    },
    {
      "cell_type": "code",
      "source": [
        "pred_bincount = np.bincount(y_test_preds)\n",
        "truth_bincount = np.bincount(y_test)\n",
        "plt.title(\"Difference in Num Predictions and Num True Labels in Testing Dataset\")\n",
        "plt.ylabel(\"Diff in Num Preds and Num True Labels\")\n",
        "plt.xlabel(\"Label\")\n",
        "plt.gca().axhline(y=0, color=\"black\")\n",
        "plt.xticks(range(0, 10))\n",
        "plt.bar(range(0, 10), pred_bincount - truth_bincount)\n",
        "plt.show()"
      ],
      "metadata": {
        "colab": {
          "base_uri": "https://localhost:8080/",
          "height": 295
        },
        "outputId": "c275da11-0baf-4943-a49d-4330a2357633",
        "id": "xzX1w11LVLgK"
      },
      "execution_count": null,
      "outputs": [
        {
          "output_type": "display_data",
          "data": {
            "text/plain": [
              "<Figure size 432x288 with 1 Axes>"
            ],
            "image/png": "[encoded data removed]"
          },
          "metadata": {
            "needs_background": "light"
          }
        }
      ]
    },
    {
      "cell_type": "markdown",
      "source": [
        "Again, positive values indicate more predictions than actual labels for that digit.\n",
        "\n",
        "We've predicted the digit 1 about 25 more occurrences than it actually appears, and also predicted the digits 0 and 2 a bit more as well.\n",
        "\n",
        "We're also not predicting the digits 3, 7, 8 and 9 as much as we should be.\n",
        "\n",
        "However, we do have some improvement over the dense network. The dense network predicted the digit 8 about **125** instances more than the true number of 8s.\n",
        "\n",
        "Our convolutional network does not reach such high differences for any label, which may indicate that that it is performing better."
      ],
      "metadata": {
        "id": "4q1vgUINVLgK"
      }
    },
    {
      "cell_type": "markdown",
      "source": [
        "---\n",
        "Taking a further look into how we're misclassifying results again, we'll start with a confusion matrix:"
      ],
      "metadata": {
        "id": "1Hd1qPESVLgL"
      }
    },
    {
      "cell_type": "code",
      "source": [
        "cf_matr = confusion_matrix(y_test, y_test_preds)\n",
        "\n",
        "ax = sns.heatmap(cf_matr, annot=True, fmt='0', cmap='Blues')\n",
        "fig = plt.gcf()\n",
        "fig.set_figheight(10)\n",
        "fig.set_figwidth(15)\n",
        "\n",
        "ax.set_ylabel(\"True Digit\")\n",
        "ax.set_xlabel(\"Predicted Digit\")\n",
        "ax.set_title(\"Confusion Matrix of True Digits vs. Predicted Digits\")\n",
        "plt.show()"
      ],
      "metadata": {
        "colab": {
          "base_uri": "https://localhost:8080/",
          "height": 621
        },
        "id": "Hm5mxWzsuydo",
        "outputId": "66cf383b-d306-4472-d96a-8f352b38a39e"
      },
      "execution_count": null,
      "outputs": [
        {
          "output_type": "display_data",
          "data": {
            "text/plain": [
              "<Figure size 1080x720 with 2 Axes>"
            ],
            "image/png": "[encoded data removed]"
          },
          "metadata": {
            "needs_background": "light"
          }
        }
      ]
    },
    {
      "cell_type": "markdown",
      "source": [
        "Compared to the dense network, we have a lot fewer classifications off of the diagonals. Previously, we could identify instances of 50 or more classifications in a category that was not along the diagonal, indicating an incorrect prediction.\n",
        "\n",
        "With this confusion matrix, the highest instances of misclassifications appear to be:\n",
        "- 14 predictions of 7 as 2\n",
        "- 12 predictions of 8 as 0\n",
        "- 12 predictions of 3 as 5\n",
        "- 11 predictions of 7 as 1\n",
        "- 10 predictions of 9 as 4\n",
        "\n",
        "We'll also look at the misclassifications for each label, to make it clearer:"
      ],
      "metadata": {
        "id": "l5IImQSUu5GG"
      }
    },
    {
      "cell_type": "code",
      "source": [
        "misclassifications = {}\n",
        "for i in range(len(y_test)):\n",
        "    true_label = y_test[i]\n",
        "    pred_label = y_test_preds[i]\n",
        "\n",
        "    if true_label != pred_label:\n",
        "        misclassifications.setdefault(true_label, [])\n",
        "        misclassifications.get(true_label).append(pred_label)"
      ],
      "metadata": {
        "id": "mmO_pQ-GVLgL"
      },
      "execution_count": null,
      "outputs": []
    },
    {
      "cell_type": "code",
      "source": [
        "fig, ax = plt.subplots(2, 5)\n",
        "fig.set_figheight(15)\n",
        "fig.set_figwidth(30)\n",
        "\n",
        "\n",
        "for i in range(0, 5):\n",
        "    ax[0, i].set_title(f\"Misclassifications When True Label Was {i}\")\n",
        "    ax[0, i].set_ylabel(\"Number of Misclassifications\")\n",
        "    ax[0, i].set_xlabel(\"Label Predicted Instead of True\")\n",
        "    ax[0, i].set_ylim([0, 80])\n",
        "    ax[0, i].set_xticks(range(0, 10))\n",
        "\n",
        "    ax[0, i].bar(range(0, 10), np.bincount(misclassifications.get(i), minlength=10))\n",
        "\n",
        "\n",
        "for i in range(5, 10):\n",
        "    ax[1, i-5].set_title(f\"Misclassifications When True Label Was {i}\")\n",
        "    ax[1, i-5].set_ylabel(\"Number of Misclassifications\")\n",
        "    ax[1, i-5].set_xlabel(\"Label Predicted Instead of True\")\n",
        "    ax[1, i-5].set_ylim([0, 80])\n",
        "    ax[1, i-5].set_xticks(range(0, 10))\n",
        "\n",
        "    ax[1, i-5].bar(range(0, 10), np.bincount(misclassifications.get(i), minlength=10))\n",
        "\n",
        "\n",
        "plt.show()"
      ],
      "metadata": {
        "colab": {
          "base_uri": "https://localhost:8080/",
          "height": 893
        },
        "outputId": "734ac549-8fa4-4b7f-ce68-63a53e0579fd",
        "id": "pUXjUeONVLgN"
      },
      "execution_count": null,
      "outputs": [
        {
          "output_type": "display_data",
          "data": {
            "text/plain": [
              "<Figure size 2160x1080 with 10 Axes>"
            ],
            "image/png": "[encoded data removed]"
          },
          "metadata": {
            "needs_background": "light"
          }
        }
      ]
    },
    {
      "cell_type": "markdown",
      "source": [
        "Here we're using the same scale as what was used for the dense network, to make comparison easy. The convolutional network is definitely misclassifying less often.\n",
        "\n",
        "With the convolutional network, we don't get anywhere close to the number of misclassifications that the dense network had for many of its labels.\n",
        "\n",
        "The most significant cases in the convolutional network are when we incorrectly predict a different digit in about 10 instances, whereas the dense network would sometimes incorrectly predict a digit in about 65 instances instead of the true digit.\n"
      ],
      "metadata": {
        "id": "JrHg0bZOVLgO"
      }
    },
    {
      "cell_type": "markdown",
      "source": [
        "## The Numbers\n",
        "---\n",
        "\n"
      ],
      "metadata": {
        "id": "DEbOeOJezN9g"
      }
    },
    {
      "cell_type": "markdown",
      "source": [
        "Following the same pattern as the dense network, we'll now look at our metrics.\n",
        "\n",
        "Starting with the accuracy again:"
      ],
      "metadata": {
        "id": "0uunqw-hzN9h"
      }
    },
    {
      "cell_type": "code",
      "source": [
        "cf_matr.diagonal()/cf_matr.sum(axis=1)"
      ],
      "metadata": {
        "colab": {
          "base_uri": "https://localhost:8080/"
        },
        "outputId": "c449a714-262a-43fe-a988-a95fc304839c",
        "id": "JJurCPTMzN9i"
      },
      "execution_count": null,
      "outputs": [
        {
          "output_type": "execute_result",
          "data": {
            "text/plain": [
              "array([0.99183673, 0.99559471, 0.98158915, 0.96732673, 0.98065173,\n",
              "       0.97757848, 0.98538622, 0.96595331, 0.96406571, 0.96333003])"
            ]
          },
          "metadata": {},
          "execution_count": 58
        }
      ]
    },
    {
      "cell_type": "markdown",
      "source": [
        "In the array above, the index corresponds to the digit.\n",
        "\n",
        "Our accuracy for each digit is quite a bit higher than that of the dense network. Previously, we had some accuracies in the 80-90% range, but the convolutional network has an accuracies greater than 96% for all labels.\n",
        "\n",
        "The digits the convolutional network has the least accuracy for are 7 and 8 (although their accuracies are ~96%)."
      ],
      "metadata": {
        "id": "oH_27B8nzN9j"
      }
    },
    {
      "cell_type": "markdown",
      "source": [
        "Next, we'll look at our precision and recall scores for each label.\n",
        "\n",
        "Using Sklearn's [classification_report function](https://scikit-learn.org/stable/modules/generated/sklearn.metrics.classification_report.html) again:"
      ],
      "metadata": {
        "id": "PUzEDPU4zN9j"
      }
    },
    {
      "cell_type": "code",
      "source": [
        "print(classification_report(y_test, y_test_preds))"
      ],
      "metadata": {
        "colab": {
          "base_uri": "https://localhost:8080/"
        },
        "outputId": "ff8e36ec-dcc5-44ae-b1a7-6d95b431b9f1",
        "id": "op_yPOmhzN9k"
      },
      "execution_count": null,
      "outputs": [
        {
          "output_type": "stream",
          "name": "stdout",
          "text": [
            "              precision    recall  f1-score   support\n",
            "\n",
            "           0       0.97      0.99      0.98       980\n",
            "           1       0.97      1.00      0.98      1135\n",
            "           2       0.97      0.98      0.97      1032\n",
            "           3       0.98      0.97      0.98      1010\n",
            "           4       0.98      0.98      0.98       982\n",
            "           5       0.98      0.98      0.98       892\n",
            "           6       0.98      0.99      0.98       958\n",
            "           7       0.98      0.97      0.97      1028\n",
            "           8       0.98      0.96      0.97       974\n",
            "           9       0.98      0.96      0.97      1009\n",
            "\n",
            "    accuracy                           0.98     10000\n",
            "   macro avg       0.98      0.98      0.98     10000\n",
            "weighted avg       0.98      0.98      0.98     10000\n",
            "\n"
          ]
        }
      ]
    },
    {
      "cell_type": "markdown",
      "source": [
        "The convolutional network also has much greater precision than the dense network. Where the dense network had some precisions in the 82s and 79s, our lowest precision in the convolutional network is 97%. We can be fairly certain that when the model predicts a digit, it is a correct prediction.\n",
        "\n",
        "The recall of our convolutional network also tells a similar story - the recalls range from 96% to 100%, while the recalls of the dense network were closer to 90%, going as low as 82%. Recalls this high tell us our model is predicting a high number of digits correctly, as the recall is the ratio of true positives to to the total number of positive labels.\n",
        "\n"
      ],
      "metadata": {
        "id": "oIGmICBGzN9k"
      }
    },
    {
      "cell_type": "markdown",
      "source": [
        "# Conclusion\n",
        "\n",
        "---\n",
        "\n"
      ],
      "metadata": {
        "id": "oQ7GljB3zN9k"
      }
    },
    {
      "cell_type": "markdown",
      "source": [
        "The dense network, all things considered, performed fairly well. With accuracies, precisions and recalls ~ 90%, it could predict 0s well, but had difficulties with 5s and 8s.\n",
        "\n",
        "The convolutional network outperformed the dense network, having accuracies, precisions and recalls of ~ 98%. It has some slight trouble predicting the digit 7, but could still do so better than the dense network.\n",
        "\n",
        "The convolutional network was able to perform better because of its convolutional layers, which are better suited for extracting features from images than a traditional dense network. Dense networks must rely purely on adjustments during training in order to learn features from images."
      ],
      "metadata": {
        "id": "842uVyzgi0S0"
      }
    }
  ]
}